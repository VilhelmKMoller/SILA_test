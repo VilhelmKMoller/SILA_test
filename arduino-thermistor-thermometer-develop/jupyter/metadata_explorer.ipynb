{
 "cells": [
  {
   "cell_type": "markdown",
   "metadata": {},
   "source": [
    "# MetaData"
   ]
  },
  {
   "cell_type": "code",
   "execution_count": 3,
   "metadata": {},
   "outputs": [],
   "source": [
    "import json\n",
    "from pyld import jsonld\n",
    "from datetime import datetime, timedelta, timezone\n",
    "\n",
    "from arduino_thermistor_thermometer.device_metadata_model import Company, Person, DeviceClass, DeviceMetaData\n",
    "from arduino_thermistor_thermometer.connection_metadata_model import ConnectionMetaData, Connection\n",
    "from arduino_thermistor_thermometer.storage_metadata_model import StorageMetaData\n",
    "\n",
    "from arduino_thermistor_thermometer.device_metadata_model_context import metadata_model_context as device_metadata_model_context\n",
    "from arduino_thermistor_thermometer.connection_metadata_model_context import metadata_model_context as connection_metadata_model_context\n",
    "from arduino_thermistor_thermometer.storage_metadata_model_context import metadata_model_context as storage_metadata_model_context"
   ]
  },
  {
   "cell_type": "markdown",
   "metadata": {},
   "source": [
    "## Device MetaData"
   ]
  },
  {
   "cell_type": "code",
   "execution_count": 2,
   "metadata": {},
   "outputs": [],
   "source": [
    "manufacturer1 = Company(\n",
    "    id=\"manufacturer_001\",  # Replace with a unique ID for the manufacturer\n",
    "    name=\"Arduino\",\n",
    "    url=\"https://www.arduino.cc/\"\n",
    ")\n",
    "\n",
    "service_provider1 = Company(\n",
    "    id=\"sp_001\",  # Replace with a unique ID for the manufacturer\n",
    "    name=\"Arduino Service Provider\",\n",
    "    url=\"https://www.arduino.service/\"\n",
    ")"
   ]
  },
  {
   "cell_type": "code",
   "execution_count": 3,
   "metadata": {},
   "outputs": [],
   "source": [
    "device_class = DeviceClass(\n",
    "    id=\"device_type_001\",  # Replace with a unique ID for the device type\n",
    "    name=\"DigitalThermometer\",\n",
    ")"
   ]
  },
  {
   "cell_type": "code",
   "execution_count": 5,
   "metadata": {},
   "outputs": [],
   "source": [
    "device_metadata = DeviceMetaData(\n",
    "    id=\"device_001\",  # Replace with a unique identifier for your device\n",
    "    timestamp=datetime.now(timezone.utc),\n",
    "    device_class=device_class,\n",
    "    device_name=\"Arduino Thermistor Thermometer\",\n",
    "    model_name=\"Custom Model\",  # Replace with the specific model name\n",
    "    registration_number=\"ARDUINO-REG-123456\",  # Replace with the actual registration number\n",
    "    registration_barcode=\"ABC-123456\",  # Replace with the actual barcode\n",
    "    firmware_version=\"v1.2.3\",  # Replace with the actual firmware version\n",
    "    device_serial_number=\"ARDUINO-SERIAL-123456\",  # Replace with the actual serial number\n",
    "    device_version=\"v1.0.0\",  # Replace with the actual device version    \n",
    "    manufacturers=[manufacturer1, ],  # Replace with the actual manufacturer\n",
    "    purchase_date=datetime.now(timezone.utc) - timedelta(days=2*365),  # Example purchase date a year ago\n",
    "    end_of_warranty_date=datetime.now(timezone.utc) + timedelta(days=365),  # Example end of warranty date in a year\n",
    "    service_date_last=datetime.now(timezone.utc) + timedelta(days=365),  # Example service date in a year\n",
    "    service_date_next=datetime.now(timezone.utc) + timedelta(days=2*365),  # Example service date in two years\n",
    "    service_type=\"Maintenance\",  # Replace with the actual service type\n",
    "    service_report=\"Annual maintenance\",  # Replace with the actual service description\n",
    "    service_provider=service_provider1,  # Replace with the actual service provider\n",
    "    device_manual_url=\"https://www.arduino.cc/en/Guide/ArduinoThermistorThermometer\",  # Replace with the actual URL\n",
    "    device_quick_start_guide_url=\"https://www.arduino.cc/en/Guide/ArduinoThermistorThermometer/QuickStart\",  # Replace with the actual URL\n",
    ")"
   ]
  },
  {
   "cell_type": "code",
   "execution_count": null,
   "metadata": {},
   "outputs": [],
   "source": [
    "device_metadata.model_dump_json()"
   ]
  },
  {
   "cell_type": "code",
   "execution_count": 7,
   "metadata": {},
   "outputs": [],
   "source": [
    "metadata_json_dict = json.loads(device_metadata.model_dump_json())\n",
    "merged_dict = {**device_metadata_model_context, **metadata_json_dict}\n",
    "        \n",
    "sample_dev_metadata_jsonld = jsonld.compact(merged_dict,  device_metadata_model_context)"
   ]
  },
  {
   "cell_type": "code",
   "execution_count": null,
   "metadata": {},
   "outputs": [],
   "source": [
    "sample_dev_metadata_jsonld"
   ]
  },
  {
   "cell_type": "code",
   "execution_count": null,
   "metadata": {},
   "outputs": [],
   "source": [
    "json.dumps(sample_dev_metadata_jsonld, indent=2)"
   ]
  },
  {
   "cell_type": "code",
   "execution_count": 10,
   "metadata": {},
   "outputs": [],
   "source": [
    "# write JSON-LD to file\n",
    "\n",
    "arduino_device_metadata_filename = \"arduino_thermistor_device_metadata.json-ld\"\n",
    "\n",
    "with open(arduino_device_metadata_filename, \"w\") as f:\n",
    "    f.write(json.dumps(sample_dev_metadata_jsonld, indent=2))"
   ]
  },
  {
   "cell_type": "markdown",
   "metadata": {},
   "source": [
    "## Connection MetaData"
   ]
  },
  {
   "cell_type": "code",
   "execution_count": 4,
   "metadata": {},
   "outputs": [],
   "source": [
    "connection = Connection(\n",
    "        id = \"connection_001\",  # Replace with a unique ID for the connection\n",
    "        timestamp=datetime.now(timezone.utc),\n",
    "        connection_type=\"Serial\",\n",
    "        connection_address=\"/dev/ttyusb0\",\n",
    "        baud_rate=\"9600\",\n",
    "        data_bits=\"8\",\n",
    "        stop_bits=\"1\",\n",
    "        parity=\"N\",  # Parity can be \"N\" (None), \"E\" (Even), \"O\" (Odd)\n",
    "    )"
   ]
  },
  {
   "cell_type": "code",
   "execution_count": 6,
   "metadata": {},
   "outputs": [],
   "source": [
    "connection_metadata = ConnectionMetaData(\n",
    "    id=\"hardware_001\",  # Replace with a unique identifier for your hardware\n",
    "    timestamp=datetime.now(timezone.utc),\n",
    "    connection=connection,\n",
    ")"
   ]
  },
  {
   "cell_type": "code",
   "execution_count": null,
   "metadata": {},
   "outputs": [],
   "source": [
    "metadata_json_dict = json.loads(connection_metadata.model_dump_json())\n",
    "merged_dict = {**connection_metadata_model_context, **metadata_json_dict}\n",
    "        \n",
    "sample_conn_metadata_jsonld = jsonld.compact(merged_dict,  connection_metadata_model_context)\n",
    "sample_conn_metadata_jsonld"
   ]
  },
  {
   "cell_type": "code",
   "execution_count": 8,
   "metadata": {},
   "outputs": [],
   "source": [
    "# write JSON-LD to file\n",
    "\n",
    "arduino_connection_metadata_filename = \"arduino_thermistor_connection_metadata.json-ld\"\n",
    "\n",
    "with open(arduino_connection_metadata_filename, \"w\") as f:\n",
    "    f.write(json.dumps(sample_conn_metadata_jsonld, indent=2))"
   ]
  },
  {
   "cell_type": "markdown",
   "metadata": {},
   "source": [
    "## Storage MetaData"
   ]
  },
  {
   "cell_type": "code",
   "execution_count": null,
   "metadata": {},
   "outputs": [],
   "source": []
  },
  {
   "cell_type": "markdown",
   "metadata": {},
   "source": [
    "## reading as JSON\n",
    "\n"
   ]
  },
  {
   "cell_type": "code",
   "execution_count": 15,
   "metadata": {},
   "outputs": [],
   "source": [
    "def parse_jsonld(data: dict):\n",
    "    # Remove the @context key if it exists\n",
    "    data.pop(\"@context\", None)\n",
    "    data.pop(\"comments\", None)\n",
    "    \n",
    "    # Map JSON-LD \"@type\" to a \"type\" field expected by Pydantic\n",
    "    if \"@type\" in data:\n",
    "        data[\"type\"] = data.pop(\"@type\")\n",
    "\n",
    "    # Now load it into the Pydantic model\n",
    "    return DeviceMetaData(**data)"
   ]
  },
  {
   "cell_type": "code",
   "execution_count": null,
   "metadata": {},
   "outputs": [],
   "source": [
    "arduino_device_metadata_filename = \"arduino_thermistor_device_metadata.json-ld\"\n",
    "\n",
    "with open(arduino_device_metadata_filename, \"r\") as f:\n",
    "    jsonld_data = json.load(f)\n",
    "\n",
    "jsonld_data\n",
    "\n",
    "\n",
    "device_metadata_file = parse_jsonld(jsonld_data)\n",
    "\n",
    "device_metadata_file.model_dump_json()\n",
    "\n"
   ]
  },
  {
   "cell_type": "code",
   "execution_count": null,
   "metadata": {},
   "outputs": [],
   "source": [
    "# pydantic settings\n",
    "\n",
    "from pydantic_settings import BaseSettings\n",
    "\n",
    "# pydantic settings JSON loader\n",
    "\n"
   ]
  },
  {
   "cell_type": "code",
   "execution_count": null,
   "metadata": {},
   "outputs": [],
   "source": [
    "\n",
    "from pydantic_settings import SettingsConfigDict, BaseSettings, YamlConfigSettingsSource\n",
    "\n",
    "# Define your settings model\n",
    "class AppConfig(BaseSettings):\n",
    "    database_host: str\n",
    "    database_port: int\n",
    "    database_user: str\n",
    "    database_password: str\n",
    "    app_debug: bool\n",
    "    app_title: str\n",
    "\n",
    "    # Configure where to find settings, using the YAML file as the source\n",
    "    model_config = SettingsConfigDict(\n",
    "        sources=[\n",
    "            YamlConfigSettingsSource(AppConfig, yaml_file=\"database_settings.yaml\")  # specify the YAML file path\n",
    "        ]\n",
    "    )\n",
    "\n",
    "# Instantiate and use the settings\n",
    "config = AppConfig()\n",
    "#print(config.database_host)  # Should output \"localhost\"\n",
    "#print(config.app_debug)      # Should output True\n"
   ]
  },
  {
   "cell_type": "code",
   "execution_count": null,
   "metadata": {},
   "outputs": [],
   "source": []
  }
 ],
 "metadata": {
  "kernelspec": {
   "display_name": "lara10",
   "language": "python",
   "name": "python3"
  },
  "language_info": {
   "codemirror_mode": {
    "name": "ipython",
    "version": 3
   },
   "file_extension": ".py",
   "mimetype": "text/x-python",
   "name": "python",
   "nbconvert_exporter": "python",
   "pygments_lexer": "ipython3",
   "version": "3.10.12"
  }
 },
 "nbformat": 4,
 "nbformat_minor": 2
}
