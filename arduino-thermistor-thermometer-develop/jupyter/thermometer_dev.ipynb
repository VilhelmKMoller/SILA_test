{
 "cells": [
  {
   "cell_type": "markdown",
   "metadata": {},
   "source": [
    "## Thermometer development notebook"
   ]
  },
  {
   "cell_type": "code",
   "execution_count": 1,
   "metadata": {},
   "outputs": [],
   "source": [
    "import pydantic\n",
    "import json\n",
    "from pyld import jsonld\n",
    "#import \n",
    "import rdflib\n",
    "import json"
   ]
  },
  {
   "cell_type": "code",
   "execution_count": 2,
   "metadata": {},
   "outputs": [],
   "source": [
    "lat = 54.0880\n",
    "lon = 13.3833\n",
    "altitude =  5"
   ]
  },
  {
   "cell_type": "code",
   "execution_count": 3,
   "metadata": {},
   "outputs": [],
   "source": [
    "contributors = [{\"name_first\":\"Alice\",\"name_last\": \"Albatros\", \"orcid\":\"0000-0001-2345-6789\", \"email\":\"alice@lara.org\"},  \n",
    "         {\"name_first\":\"Bob\",\"name_last\": \"Baker\", \"orcid\":\"0000-0001-2345-6790\"}]\n",
    "\n",
    "core_metadata = dict(\n",
    "    id=\"1234\",\n",
    "    contributors=contributors,\n",
    "    method=\"oso:temperature\",\n",
    "    timestamp=\"2021-01-01T00:00:00Z\",\n",
    "    procedure_name=\"temperature_measurement\",\n",
    "    session_name=\"temperature_measurement_session_1\",\n",
    "    software=\"Arduino_SiLA_temperature_controller\",\n",
    "    software_version=\"0.0.1\",\n",
    "    environment_temperature=301.0,  # in Kelvin\n",
    "    environment_air_humidity=0.5,  # relative humidity\n",
    "    environment_air_pressure=1013, # in hPa\n",
    "    geolocation=','.join([str(lat), str(lon)]),\n",
    "    altitude=altitude,\n",
    "    device_type=\"thermometer\",\n",
    "    device_serial=\"234024\",\n",
    "    device_version=\"1.0\",\n",
    "    device_name=\"Teensy Arduino Thermistor\",\n",
    "    device_model_name=\"Thermistor T1\",\n",
    "    device_manufacturer_name=\"PJRC\",\n",
    "    #device_pid=\"\",\n",
    "    checksum_previous=\"BD94760347BABBB0B12ADFEB41FF01B90DD7F4C16F9B6C2088CD2526F6223898\", # sha256 of the previous data\n",
    "    )"
   ]
  },
  {
   "cell_type": "code",
   "execution_count": null,
   "metadata": {},
   "outputs": [],
   "source": [
    "# core_metadata to json\n",
    "\n",
    "core_metadata_json = json.dumps(core_metadata, indent=2)\n",
    "print(core_metadata_json)"
   ]
  },
  {
   "cell_type": "code",
   "execution_count": null,
   "metadata": {},
   "outputs": [],
   "source": []
  },
  {
   "cell_type": "code",
   "execution_count": null,
   "metadata": {},
   "outputs": [],
   "source": []
  }
 ],
 "metadata": {
  "kernelspec": {
   "display_name": "lara10",
   "language": "python",
   "name": "python3"
  },
  "language_info": {
   "codemirror_mode": {
    "name": "ipython",
    "version": 3
   },
   "file_extension": ".py",
   "mimetype": "text/x-python",
   "name": "python",
   "nbconvert_exporter": "python",
   "pygments_lexer": "ipython3",
   "version": "3.10.12"
  }
 },
 "nbformat": 4,
 "nbformat_minor": 2
}
